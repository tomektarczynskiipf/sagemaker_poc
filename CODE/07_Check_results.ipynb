{
 "cells": [
  {
   "cell_type": "code",
   "execution_count": 44,
   "id": "9d49c650-4cc3-4490-9bd6-64c7da9b9b5b",
   "metadata": {},
   "outputs": [],
   "source": [
    "from scripts.functions import *\n",
    "\n",
    "import os\n",
    "import pandas as pd\n",
    "import numpy as np\n",
    "import boto3\n",
    "from io import StringIO\n",
    "from urllib.parse import urlparse"
   ]
  },
  {
   "cell_type": "code",
   "execution_count": 45,
   "id": "16bde627-e897-42ed-abc0-e07fcac3978e",
   "metadata": {},
   "outputs": [
    {
     "name": "stdout",
     "output_type": "stream",
     "text": [
      "Settings:\n",
      "{'project_name': '01-churn', 'bucket_name': 'sagemaker-bucket-ds', 'project_path_s3': '01-churn/v1-prod', 'mlflow_arn': 'arn:aws:sagemaker:eu-west-1:211125740051:mlflow-tracking-server/Sample-server', 'mlflow_experiment_name': '01-churn', 'mlflow_model_name': '01-churn', 'preprocessing_job_name': '01-churn-preprocessing', 'training_job_name': '01-churn', 'transform_job_name': '01-churn', 'preprocessing_output_train': '/opt/ml/processing/output/train', 'preprocessing_output_valid': '/opt/ml/processing/output/valid', 'preprocessing_output_test': '/opt/ml/processing/output/test', 'preprocessing_output_inference_train': '/opt/ml/processing/output/inference_train', 'preprocessing_step_name': '01-churn-preprocessing', 'training_step_name': '01-churn-training', 'modelcreate_step_name': '01-churn-model-create', 'transformer_step_name': '01-churn-transformer', 'reference_inference_train': 's3://sagemaker-bucket-ds/01-churn/v1/output/base_pred/train.csv', 'max_diff_pred_train_accept': 0.0002}\n"
     ]
    }
   ],
   "source": [
    "print(\"Settings:\")\n",
    "settings = read_settings('scripts/settings.json')\n",
    "print(settings)"
   ]
  },
  {
   "cell_type": "code",
   "execution_count": 46,
   "id": "56d76f4a-4389-40d6-91dc-1e00c13b020a",
   "metadata": {},
   "outputs": [
    {
     "name": "stdout",
     "output_type": "stream",
     "text": [
      "Reading dataframe from following S3 path: s3://sagemaker-bucket-ds/01-churn/v1/output/base_pred/train.csv\n"
     ]
    }
   ],
   "source": [
    "def read_csv_from_s3(s3_path):\n",
    "    # Parse the S3 path\n",
    "    print(f\"Reading dataframe from following S3 path: {s3_path}\")\n",
    "    \n",
    "    parsed_url = urlparse(s3_path)\n",
    "    bucket_name = parsed_url.netloc\n",
    "    file_key = parsed_url.path.lstrip('/')\n",
    "\n",
    "    # Initialize a session using Amazon S3\n",
    "    s3_client = boto3.client('s3')\n",
    "\n",
    "    # Get the CSV file content from S3\n",
    "    response = s3_client.get_object(Bucket=bucket_name, Key=file_key)\n",
    "    csv_content = response['Body'].read().decode('utf-8')\n",
    "\n",
    "    # Read the CSV content into a pandas DataFrame\n",
    "    df = pd.read_csv(StringIO(csv_content))\n",
    "\n",
    "    return df\n",
    "\n",
    "df = read_csv_from_s3(settings[\"reference_inference_train\"])"
   ]
  },
  {
   "cell_type": "code",
   "execution_count": 47,
   "id": "798c61a8-6ef0-45c5-8374-4474963c7a28",
   "metadata": {},
   "outputs": [
    {
     "name": "stdout",
     "output_type": "stream",
     "text": [
      "Reading dataframe from following S3 path: s3://sagemaker-bucket-ds/01-churn/v1/output/base_pred/train.csv\n",
      "DataFrame base head:\n",
      "    pred_base  target\n",
      "0    0.99987       1\n",
      "1    0.99387       1\n",
      "2    0.07881       0\n",
      "3    0.01232       0\n",
      "4    0.57458       1\n"
     ]
    }
   ],
   "source": [
    "df_base = read_csv_from_s3(settings[\"reference_inference_train\"])\n",
    "df_base.columns = ['pred_base', 'target']\n",
    "\n",
    "print(\"DataFrame base head:\\n\", df_base.head())"
   ]
  },
  {
   "cell_type": "code",
   "execution_count": 48,
   "id": "cf827714-bfc4-4280-b35b-82293dee7b46",
   "metadata": {},
   "outputs": [
    {
     "name": "stdout",
     "output_type": "stream",
     "text": [
      "Reading dataframe from following S3 path: s3://sagemaker-bucket-ds/01-churn/v1-prod/output/inference_train/inference_train.csv.out\n",
      "DataFrame pipeline head:\n",
      "    pred_pipeline\n",
      "0       0.999872\n",
      "1       0.993868\n",
      "2       0.078811\n",
      "3       0.012315\n",
      "4       0.574609\n"
     ]
    }
   ],
   "source": [
    "pipeline_prediction_path = os.path.join(\"s3://\",settings['bucket_name'],settings['project_path_s3'],'output','inference_train', 'inference_train.csv.out')\n",
    "\n",
    "df_pipeline = read_csv_from_s3(pipeline_prediction_path)\n",
    "df_pipeline.columns = ['pred_pipeline']\n",
    "print(\"DataFrame pipeline head:\\n\", df_pipeline.head())"
   ]
  },
  {
   "cell_type": "code",
   "execution_count": 49,
   "id": "1290395e-09eb-469c-9ac1-10be3f71c1cb",
   "metadata": {},
   "outputs": [
    {
     "name": "stdout",
     "output_type": "stream",
     "text": [
      "DataFrame all head:\n",
      "    pred_base  target  pred_pipeline      abs_diff\n",
      "0    0.99987       1       0.999872  1.709674e-06\n",
      "1    0.99387       1       0.993868  1.866839e-06\n",
      "2    0.07881       0       0.078811  6.618378e-07\n",
      "3    0.01232       0       0.012315  5.314762e-06\n",
      "4    0.57458       1       0.574609  2.897779e-05\n"
     ]
    }
   ],
   "source": [
    "df_all = pd.concat([df_base, df_pipeline], axis = 1)\n",
    "df_all['abs_diff'] = abs(df_all['pred_base'] - df_all['pred_pipeline'])\n",
    "print(\"DataFrame all head:\\n\", df_all.head())"
   ]
  },
  {
   "cell_type": "code",
   "execution_count": 50,
   "id": "b0cb7490-2725-4ab6-8c88-0b111c4477fa",
   "metadata": {},
   "outputs": [
    {
     "name": "stdout",
     "output_type": "stream",
     "text": [
      "Maximum difference in abs_diff column: 0.00014225056765776456\n",
      "Maximum threshold for difference in predictions is: 0.0002\n",
      "Maximum difference is within the acceptable threshold.\n"
     ]
    }
   ],
   "source": [
    "max_diff = df_all['abs_diff'].max()\n",
    "print(f\"Maximum difference in abs_diff column: {max_diff}\")\n",
    "\n",
    "threshold = settings[\"max_diff_pred_train_accept\"]\n",
    "print(f\"Maximum threshold for difference in predictions is: {threshold}\")\n",
    "\n",
    "if max_diff > threshold:\n",
    "    raise ValueError(f\"Maximum difference {max_diff} exceeds the acceptable threshold of {threshold}\")\n",
    "else:\n",
    "    print(\"Maximum difference is within the acceptable threshold.\")"
   ]
  }
 ],
 "metadata": {
  "kernelspec": {
   "display_name": "Python 3 (ipykernel)",
   "language": "python",
   "name": "python3"
  },
  "language_info": {
   "codemirror_mode": {
    "name": "ipython",
    "version": 3
   },
   "file_extension": ".py",
   "mimetype": "text/x-python",
   "name": "python",
   "nbconvert_exporter": "python",
   "pygments_lexer": "ipython3",
   "version": "3.10.14"
  }
 },
 "nbformat": 4,
 "nbformat_minor": 5
}
