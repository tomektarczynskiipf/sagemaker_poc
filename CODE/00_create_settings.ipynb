{
 "cells": [
  {
   "cell_type": "code",
   "execution_count": 1,
   "id": "735cc657-bac0-4e81-8cf8-4215a78296d5",
   "metadata": {},
   "outputs": [],
   "source": [
    "import json\n",
    "\n",
    "settings = {\n",
    "    211125740051: {\n",
    "        'project_name': '01-churn',\n",
    "        'bucket_name' : 'sagemaker-bucket-ds',\n",
    "        'project_path_s3' : '01-churn/v1',\n",
    "        'mlflow_arn': 'arn:aws:sagemaker:eu-west-1:211125740051:mlflow-tracking-server/Sample-server',\n",
    "        'mlflow_experiment_name': '01-churn-experiments'\n",
    "    }\n",
    "}\n",
    "\n",
    "filename = \"../SETTINGS/settings.json\"\n",
    "\n",
    "with open(filename, 'w') as file:\n",
    "    json.dump(settings, file, indent=4)"
   ]
  }
 ],
 "metadata": {
  "kernelspec": {
   "display_name": "Python 3 (ipykernel)",
   "language": "python",
   "name": "python3"
  },
  "language_info": {
   "codemirror_mode": {
    "name": "ipython",
    "version": 3
   },
   "file_extension": ".py",
   "mimetype": "text/x-python",
   "name": "python",
   "nbconvert_exporter": "python",
   "pygments_lexer": "ipython3",
   "version": "3.10.14"
  }
 },
 "nbformat": 4,
 "nbformat_minor": 5
}
