{
 "cells": [
  {
   "cell_type": "code",
   "execution_count": 1,
   "id": "5a9975c4-6734-4f41-b113-ceb32e0ab09c",
   "metadata": {},
   "outputs": [],
   "source": [
    "from functions import *\n",
    "\n",
    "import os\n",
    "import pandas as pd\n",
    "import numpy as np\n",
    "from sklearn.model_selection import train_test_split\n",
    "\n",
    "settings = read_settings()"
   ]
  },
  {
   "cell_type": "code",
   "execution_count": 2,
   "id": "fe886b81-733d-4ba4-b2c1-29db7492af7d",
   "metadata": {},
   "outputs": [],
   "source": [
    "s3_key = f\"{settings['project_path_s3']}/data/raw/data.csv\"\n",
    "df = read_csv_from_s3(settings['bucket_name'], s3_key)"
   ]
  },
  {
   "cell_type": "code",
   "execution_count": 3,
   "id": "40dabaaa-d403-4ef5-add9-afb4dba800c2",
   "metadata": {},
   "outputs": [],
   "source": [
    "train, temp = train_test_split(df, test_size=0.4, random_state=42)\n",
    "test, valid = train_test_split(temp, test_size=0.5, random_state=42)\n",
    "\n",
    "base_s3_path = settings['project_path_s3']\n",
    "paths = {\n",
    "    'train': f\"{base_s3_path}/data/train/train.csv\",\n",
    "    'test': f\"{base_s3_path}/data/test/test.csv\",\n",
    "    'valid': f\"{base_s3_path}/data/valid/valid.csv\"\n",
    "}\n",
    "    \n",
    "save_df_to_s3(train, settings['bucket_name'], paths['train'], decimal_places = 5)\n",
    "save_df_to_s3(test, settings['bucket_name'], paths['test'], decimal_places = 5)\n",
    "save_df_to_s3(valid, settings['bucket_name'], paths['valid'], decimal_places = 5)"
   ]
  },
  {
   "cell_type": "code",
   "execution_count": 4,
   "id": "5a0dc84e-468d-4df4-902b-7ec76848ede7",
   "metadata": {},
   "outputs": [
    {
     "name": "stdout",
     "output_type": "stream",
     "text": [
      "target,col_1,col_2,col_3,col_4,col_5,col_6,col_7,col_8\n",
      "1,0.14101,0.11733,0.68006,0.31573,0.59399,0.53184,0.95022,0.91747\n",
      "1,0.43209,0.26221,0.32343,0.31758,0.70779,0.80225,0.79166,0.53643\n",
      "0,0.60806,0.73014,0.03164,0.66232,0.27804,0.65828,0.54051,0.06940\n",
      "0,0.66970,0.79305,0.60265,0.93622,0.91399,0.62620,0.38156,0.31987\n",
      "\n",
      "[Errno 32] Broken pipe\n"
     ]
    }
   ],
   "source": [
    "!aws s3api get-object --bucket {settings['bucket_name']} --key {paths['train']} /dev/stdout | head -n 5"
   ]
  },
  {
   "cell_type": "code",
   "execution_count": 5,
   "id": "d56962fc-acdb-4818-b7fa-27bf5d11c7fb",
   "metadata": {},
   "outputs": [
    {
     "name": "stdout",
     "output_type": "stream",
     "text": [
      "target,col_1,col_2,col_3,col_4,col_5,col_6,col_7,col_8\n",
      "1,0.26595,0.23898,0.80330,0.04777,0.98651,0.73246,0.42097,0.09621\n",
      "0,0.81669,0.60952,0.55967,0.94462,0.83856,0.91647,0.73573,0.26163\n",
      "0,0.48430,0.88700,0.71532,0.39924,0.25337,0.90079,0.50076,0.99420\n",
      "1,0.05241,0.00566,0.26682,0.57685,0.74673,0.41249,0.95645,0.29727\n",
      "\n",
      "[Errno 32] Broken pipe\n"
     ]
    }
   ],
   "source": [
    "!aws s3api get-object --bucket {settings['bucket_name']} --key {paths['test']} /dev/stdout | head -n 5"
   ]
  },
  {
   "cell_type": "code",
   "execution_count": 6,
   "id": "68e10c0e-5e89-483d-ab4e-2455eac2b378",
   "metadata": {},
   "outputs": [
    {
     "name": "stdout",
     "output_type": "stream",
     "text": [
      "target,col_1,col_2,col_3,col_4,col_5,col_6,col_7,col_8\n",
      "0,0.33200,0.82096,0.96804,0.03978,0.56928,0.10530,0.68040,0.00789\n",
      "0,0.41739,0.37687,0.87590,0.90530,0.49296,0.33016,0.10680,0.95340\n",
      "0,0.84312,0.45627,0.44419,0.78366,0.46787,0.93536,0.41213,0.28030\n",
      "0,0.14076,0.79443,0.67630,0.82803,0.84335,0.34553,0.26327,0.55263\n",
      "\n",
      "[Errno 32] Broken pipe\n"
     ]
    }
   ],
   "source": [
    "!aws s3api get-object --bucket {settings['bucket_name']} --key {paths['valid']} /dev/stdout | head -n 5"
   ]
  }
 ],
 "metadata": {
  "kernelspec": {
   "display_name": "Python 3 (ipykernel)",
   "language": "python",
   "name": "python3"
  },
  "language_info": {
   "codemirror_mode": {
    "name": "ipython",
    "version": 3
   },
   "file_extension": ".py",
   "mimetype": "text/x-python",
   "name": "python",
   "nbconvert_exporter": "python",
   "pygments_lexer": "ipython3",
   "version": "3.10.14"
  }
 },
 "nbformat": 4,
 "nbformat_minor": 5
}
