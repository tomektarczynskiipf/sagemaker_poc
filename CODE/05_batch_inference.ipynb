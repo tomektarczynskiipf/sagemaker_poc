{
 "cells": [
  {
   "cell_type": "code",
   "id": "4df3a9cd-b30d-424a-aa46-bde407e7513e",
   "metadata": {},
   "outputs": [],
   "source": [
    "!pip install mlflow==2.13.2 sagemaker-mlflow==0.1.0 cloudpickle==2.2.1"
   ]
  },
  {
   "cell_type": "code",
   "id": "b31dcac0-5e49-462b-abcc-fb32a57a878a",
   "metadata": {},
   "outputs": [],
   "source": [
    "from functions import *\n",
    "\n",
    "import os\n",
    "import boto3\n",
    "import pandas as pd\n",
    "import io\n",
    "import mlflow\n",
    "from mlflow.tracking import MlflowClient\n",
    "from itertools import combinations\n",
    "from sklearn.linear_model import LogisticRegression\n",
    "from sklearn.metrics import accuracy_score, roc_auc_score\n",
    "from sagemaker.sklearn.model import SKLearnModel\n",
    "from sagemaker import get_execution_role\n",
    "from datetime import datetime\n",
    "\n",
    "settings = read_settings()"
   ]
  },
  {
   "cell_type": "code",
   "id": "10d5a0b0-304f-453b-967e-c9a294236e78",
   "metadata": {},
   "outputs": [],
   "source": [
    "mlflow.set_tracking_uri(settings['mlflow_arn'])\n",
    "mlflow.set_experiment(settings['mlflow_experiment_name'])\n",
    "client = MlflowClient()\n",
    "role = get_execution_role()"
   ]
  },
  {
   "cell_type": "code",
   "id": "30f1d062-c8a3-4cab-bfc4-44b14096c1a7",
   "metadata": {},
   "outputs": [],
   "source": [
    "registered_model = client.get_registered_model(name=settings['mlflow_model_name'])\n",
    "run_id = registered_model.latest_versions[0].run_id\n",
    "source_path = registered_model.latest_versions[0].source\n",
    "model_path = os.path.join(source_path, 'model.tar.gz')"
   ]
  },
  {
   "cell_type": "code",
   "id": "1ce91212-36c0-40e2-adab-246a6ce9ba39",
   "metadata": {},
   "outputs": [],
   "source": [
    "os.makedirs(\"inference_script\", exist_ok=True)"
   ]
  },
  {
   "cell_type": "code",
   "id": "78663104-127c-44ae-a019-2a2fe3930e7f",
   "metadata": {},
   "outputs": [],
   "source": [
    "%%writefile inference_script/inference.py\n",
    "\n",
    "import os\n",
    "import pickle\n",
    "import json\n",
    "import pandas as pd\n",
    "import io\n",
    "from sagemaker_containers.beta.framework import worker\n",
    "\n",
    "def model_fn(model_dir):\n",
    "    with open(os.path.join(model_dir, \"model.pkl\"), \"rb\") as f:\n",
    "        model = pickle.load(f)\n",
    "    return model\n",
    "\n",
    "def input_fn(input_data, content_type):\n",
    "    if content_type == 'text/csv':\n",
    "        return pd.read_csv(io.StringIO(input_data))\n",
    "    else:\n",
    "        raise ValueError(f\"Unsupported content type: {content_type}\")\n",
    "\n",
    "def predict_fn(input_data, model):\n",
    "    predictions = model.predict_proba(input_data)\n",
    "    return predictions\n",
    "\n",
    "def output_fn(prediction, content_type):\n",
    "    if content_type == 'application/json':\n",
    "        return worker.Response(json.dumps(prediction.tolist()), mimetype=content_type)\n",
    "    elif content_type == 'text/csv':\n",
    "        return worker.Response(pd.DataFrame(prediction).to_csv(index=False), mimetype=content_type)\n",
    "    else:\n",
    "        raise ValueError(f\"Unsupported content type: {content_type}\")"
   ]
  },
  {
   "cell_type": "code",
   "id": "63081796-1560-48ec-9e1e-856a854a9818",
   "metadata": {},
   "outputs": [],
   "source": [
    "%%writefile inference_script/inference.py\n",
    "\n",
    "import os\n",
    "import pickle\n",
    "import json\n",
    "import pandas as pd\n",
    "import io\n",
    "from sagemaker_containers.beta.framework import worker\n",
    "import joblib\n",
    "\n",
    "def model_fn(model_dir):\n",
    "    model_path = os.path.join(model_dir, 'model.joblib')\n",
    "    model = joblib.load(model_path)\n",
    "    return model\n",
    "\n",
    "def input_fn(input_data, content_type):\n",
    "    if content_type == 'text/csv':\n",
    "        return pd.read_csv(io.StringIO(input_data))\n",
    "    else:\n",
    "        raise ValueError(f\"Unsupported content type: {content_type}\")\n",
    "\n",
    "def predict_fn(input_data, model):\n",
    "    # Ensure the input data is in the correct format\n",
    "    if isinstance(input_data, pd.DataFrame):\n",
    "        predictions = model.predict_proba(input_data)\n",
    "    else:\n",
    "        raise ValueError(\"Input data should be a pandas DataFrame\")\n",
    "    return predictions\n",
    "\n",
    "def output_fn(prediction, accept='application/json'):\n",
    "    if accept == 'application/json':\n",
    "        return json.dumps(prediction.tolist())\n",
    "    elif accept == 'text/csv':\n",
    "        return pd.DataFrame(prediction).to_csv(index=False)\n",
    "    else:\n",
    "        raise ValueError(f\"Unsupported accept type: {accept}\")"
   ]
  },
  {
   "cell_type": "code",
   "id": "bc20d7f5-5352-42f5-a631-624ae09247a5",
   "metadata": {},
   "outputs": [],
   "source": [
    "sklearn_model = SKLearnModel(\n",
    "    model_data=model_path,\n",
    "    role=role,\n",
    "    entry_point='inference.py',\n",
    "    source_dir='inference_script',\n",
    "    framework_version='1.2-1'\n",
    ")"
   ]
  },
  {
   "cell_type": "code",
   "id": "2c0bcc22-3f7a-4eb9-8142-616296cc464d",
   "metadata": {},
   "outputs": [],
   "source": [
    "output_path = os.path.join(\"s3://\",settings['bucket_name'],settings['project_path_s3'],\"output\",\"job_pred\")\n",
    "\n",
    "transformer = sklearn_model.transformer(\n",
    "    instance_count=1,\n",
    "    instance_type='ml.m5.large',\n",
    "    output_path=output_path,\n",
    "    assemble_with='Line'\n",
    ")"
   ]
  },
  {
   "cell_type": "code",
   "id": "c7173ba8-113f-4c52-96c1-3fed54e75adc",
   "metadata": {
    "scrolled": true
   },
   "outputs": [],
   "source": [
    "input_path = os.path.join(\"s3://\",settings['bucket_name'],settings['project_path_s3'],\"data\",\"inference_train_job\")\n",
    "\n",
    "timestamp = datetime.now().strftime('%Y-%m-%d-%H-%M-%S')\n",
    "transform_job_name_with_timestamp = f\"{settings['transform_job_name']}-{timestamp}\"\n",
    "\n",
    "transformer.transform(\n",
    "    data=input_path,\n",
    "    content_type='text/csv',\n",
    "    split_type='Line',\n",
    "    job_name = transform_job_name_with_timestamp\n",
    ")"
   ]
  },
  {
   "cell_type": "code",
   "id": "c6686573-a442-4822-9a37-7f9d3e7c7bc2",
   "metadata": {},
   "outputs": [],
   "source": [
    "inference_job_s3_key = os.path.join(settings['project_path_s3'], \"output\", \"job_pred\", \"inference.csv.out\")"
   ]
  }
 ],
 "metadata": {
  "kernelspec": {
   "display_name": "Python 3 (ipykernel)",
   "language": "python",
   "name": "python3"
  },
  "language_info": {
   "codemirror_mode": {
    "name": "ipython",
    "version": 3
   },
   "file_extension": ".py",
   "mimetype": "text/x-python",
   "name": "python",
   "nbconvert_exporter": "python",
   "pygments_lexer": "ipython3",
   "version": "3.10.14"
  }
 },
 "nbformat": 4,
 "nbformat_minor": 5
}
