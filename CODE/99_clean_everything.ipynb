{
 "cells": [
  {
   "cell_type": "code",
   "execution_count": 2,
   "id": "9e0e0db5-24fc-4092-aa32-14f3c05c13ca",
   "metadata": {},
   "outputs": [],
   "source": [
    "from scripts.functions import *\n",
    "\n",
    "settings = read_settings()"
   ]
  },
  {
   "cell_type": "code",
   "execution_count": 3,
   "id": "ae961724-5c77-4c67-8559-646a12f933a4",
   "metadata": {},
   "outputs": [
    {
     "name": "stdout",
     "output_type": "stream",
     "text": [
      "Deleted 9 objects from s3://sagemaker-bucket-ds/01-churn/v1\n"
     ]
    }
   ],
   "source": [
    "delete_s3_folder(settings['bucket_name'], settings['project_path_s3'])"
   ]
  }
 ],
 "metadata": {
  "kernelspec": {
   "display_name": "Python 3 (ipykernel)",
   "language": "python",
   "name": "python3"
  },
  "language_info": {
   "codemirror_mode": {
    "name": "ipython",
    "version": 3
   },
   "file_extension": ".py",
   "mimetype": "text/x-python",
   "name": "python",
   "nbconvert_exporter": "python",
   "pygments_lexer": "ipython3",
   "version": "3.10.14"
  }
 },
 "nbformat": 4,
 "nbformat_minor": 5
}
