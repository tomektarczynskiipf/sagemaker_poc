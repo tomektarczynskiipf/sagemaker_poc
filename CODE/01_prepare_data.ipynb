{
 "cells": [
  {
   "cell_type": "code",
   "execution_count": 1,
   "id": "547cd565-4392-4d1b-8eec-468b56051af7",
   "metadata": {},
   "outputs": [],
   "source": [
    "from functions import *\n",
    "\n",
    "import os\n",
    "import pandas as pd\n",
    "import numpy as np\n",
    "\n",
    "settings = read_settings()"
   ]
  },
  {
   "cell_type": "code",
   "execution_count": 2,
   "id": "fa292a70-d1e2-45cc-af89-403320c1fbaa",
   "metadata": {},
   "outputs": [],
   "source": [
    "def create_random_dataframe_with_params(n_rows, n_cols, params, seed=None):\n",
    "    \"\"\"\n",
    "    Create a DataFrame with random values and an additional binary target column based on the sum of products of values and parameters.\n",
    "    \n",
    "    Parameters:\n",
    "    - n_rows: int, number of rows in the DataFrame\n",
    "    - n_cols: int, number of columns in the DataFrame\n",
    "    - params: list or array-like, parameters for each column\n",
    "    - seed: int, random seed for reproducibility (default is None)\n",
    "    \n",
    "    Returns:\n",
    "    - DataFrame with shape (n_rows, n_cols+1) where the last column is a binary target based on the sum of products.\n",
    "    \"\"\"\n",
    "    if seed is not None:\n",
    "        np.random.seed(seed)\n",
    "        \n",
    "    if len(params) != n_cols:\n",
    "        raise ValueError(\"The length of params must be equal to the number of columns (n_cols).\")\n",
    "    \n",
    "    data = np.random.rand(n_rows, n_cols)\n",
    "    df = pd.DataFrame(data, columns=[f'col_{i+1}' for i in range(n_cols)])\n",
    "    \n",
    "    # Calculate the sum_product column\n",
    "    df['sum_product'] = np.dot(df.values, params) + 0.5\n",
    "    \n",
    "    # Calculate the target column\n",
    "    df['target'] = (np.random.rand(n_rows) < df['sum_product']).astype(int)\n",
    "    \n",
    "    # Drop the sum_product column\n",
    "    df = df.drop(columns=['sum_product'])\n",
    "\n",
    "    # Move target column to the first position\n",
    "    columns = ['target'] + [col for col in df.columns if col != 'target']\n",
    "    df = df[columns]    \n",
    "    \n",
    "    return df\n",
    "\n",
    "params = [-1, -1, -0.5, 0, 0, 0.5, 1, 1]\n",
    "df = create_random_dataframe_with_params(n_rows = 100000, n_cols = 8, params = params, seed = 42)"
   ]
  },
  {
   "cell_type": "code",
   "execution_count": 3,
   "id": "7b987e59-b170-4330-87d3-def6eed01d6a",
   "metadata": {},
   "outputs": [],
   "source": [
    "s3_key = f\"{settings['project_path_s3']}/data/raw/data.csv\"\n",
    "save_df_to_s3(df = df, bucket_name = settings['bucket_name'], s3_key = s3_key, decimal_places = 5)"
   ]
  },
  {
   "cell_type": "code",
   "execution_count": 4,
   "id": "19178982-66a9-48ac-8fe9-d78546252514",
   "metadata": {},
   "outputs": [
    {
     "name": "stdout",
     "output_type": "stream",
     "text": [
      "target,col_1,col_2,col_3,col_4,col_5,col_6,col_7,col_8\n",
      "0,0.37454,0.95071,0.73199,0.59866,0.15602,0.15599,0.05808,0.86618\n",
      "0,0.60112,0.70807,0.02058,0.96991,0.83244,0.21234,0.18182,0.18340\n",
      "0,0.30424,0.52476,0.43195,0.29123,0.61185,0.13949,0.29214,0.36636\n",
      "0,0.45607,0.78518,0.19967,0.51423,0.59241,0.04645,0.60754,0.17052\n",
      "\n",
      "[Errno 32] Broken pipe\n"
     ]
    }
   ],
   "source": [
    "!aws s3api get-object --bucket {settings['bucket_name']} --key {s3_key} /dev/stdout | head -n 5"
   ]
  }
 ],
 "metadata": {
  "kernelspec": {
   "display_name": "Python 3 (ipykernel)",
   "language": "python",
   "name": "python3"
  },
  "language_info": {
   "codemirror_mode": {
    "name": "ipython",
    "version": 3
   },
   "file_extension": ".py",
   "mimetype": "text/x-python",
   "name": "python",
   "nbconvert_exporter": "python",
   "pygments_lexer": "ipython3",
   "version": "3.10.14"
  }
 },
 "nbformat": 4,
 "nbformat_minor": 5
}
